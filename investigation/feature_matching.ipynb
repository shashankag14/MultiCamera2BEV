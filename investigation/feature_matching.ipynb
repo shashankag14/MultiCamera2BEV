{
 "cells": [
  {
   "cell_type": "code",
   "execution_count": 12,
   "metadata": {},
   "outputs": [
    {
     "data": {
      "text/plain": [
       "[array([[193, 192, 217, ..., 216, 217, 189],\n",
       "        [203, 202, 217, ..., 228, 235, 229],\n",
       "        [185, 205, 206, ..., 215, 185, 220],\n",
       "        ...,\n",
       "        [114, 115, 116, ..., 139, 130, 131],\n",
       "        [106, 113, 123, ..., 193, 186, 185],\n",
       "        [111, 111, 124, ..., 183, 167, 150]], shape=(571, 428), dtype=uint8),\n",
       " array([[175, 167, 169, ..., 240, 240, 237],\n",
       "        [172, 166, 171, ..., 239, 238, 233],\n",
       "        [168, 162, 166, ..., 235, 237, 232],\n",
       "        ...,\n",
       "        [ 59,  81,  60, ..., 157, 156, 143],\n",
       "        [ 63,  85,  63, ..., 146, 150, 154],\n",
       "        [ 61,  80,  58, ..., 140, 152, 164]], shape=(571, 428), dtype=uint8),\n",
       " array([[  5,   4,   5, ..., 182, 180, 171],\n",
       "        [  4,   6,   7, ..., 197, 192, 189],\n",
       "        [  6,   5,   6, ..., 140, 129, 125],\n",
       "        ...,\n",
       "        [ 31,  32,  29, ..., 185, 191, 197],\n",
       "        [ 41,  50,  56, ..., 188, 188, 189],\n",
       "        [ 47,  63,  75, ..., 128, 125, 122]], shape=(571, 428), dtype=uint8),\n",
       " array([[ 76,  90,  83, ...,   7,   6,   7],\n",
       "        [ 87,  72,  78, ...,   7,   6,   6],\n",
       "        [ 85,  94,  71, ...,   5,   6,   8],\n",
       "        ...,\n",
       "        [138, 134, 140, ..., 252, 198, 189],\n",
       "        [134, 136, 145, ..., 202, 220, 173],\n",
       "        [124, 129, 145, ..., 171, 251, 248]], shape=(571, 428), dtype=uint8)]"
      ]
     },
     "execution_count": 12,
     "metadata": {},
     "output_type": "execute_result"
    }
   ],
   "source": [
    "import cv2\n",
    "\n",
    "base_path = \"../data/resized_images/\"\n",
    "cam_views = [\"Front\", \"Left\", \"Back\", \"Right\"]\n",
    "# Get paths to images from multi camera\n",
    "image_paths = [base_path +\n",
    "               cam_view + \".jpg\" for cam_view in cam_views]\n",
    "images = [cv2.imread(img, cv2.IMREAD_GRAYSCALE) for img in image_paths]\n",
    "images"
   ]
  },
  {
   "cell_type": "code",
   "execution_count": 6,
   "metadata": {},
   "outputs": [
    {
     "data": {
      "text/plain": [
       "4"
      ]
     },
     "execution_count": 6,
     "metadata": {},
     "output_type": "execute_result"
    }
   ],
   "source": [
    "# Initialize feature detector (ORB or SIFT)\n",
    "use_sift = True\n",
    "if use_sift:\n",
    "    feature_detector = cv2.SIFT_create()\n",
    "    bf = cv2.BFMatcher(cv2.NORM_L2, crossCheck=False)  # SIFT uses L2 norm\n",
    "else:\n",
    "    feature_detector = cv2.ORB_create()\n",
    "    # ORB uses Hamming norm\n",
    "    bf = cv2.BFMatcher(cv2.NORM_HAMMING, crossCheck=True)\n",
    "\n",
    "# Detect keypoints and descriptors\n",
    "keypoints_descriptors = [\n",
    "    feature_detector.detectAndCompute(img, None) for img in images]\n",
    "keypoints = [kp_desc[0] for kp_desc in keypoints_descriptors]\n",
    "descriptors = [kp_desc[1] for kp_desc in keypoints_descriptors]\n",
    "len(descriptors)"
   ]
  },
  {
   "cell_type": "code",
   "execution_count": 7,
   "metadata": {},
   "outputs": [
    {
     "name": "stdout",
     "output_type": "stream",
     "text": [
      "Matches between ../data/resized_images/Front.jpg and ../data/resized_images/Left.jpg: 18\n",
      "Matches between ../data/resized_images/Left.jpg and ../data/resized_images/Back.jpg: 19\n",
      "Matches between ../data/resized_images/Back.jpg and ../data/resized_images/Right.jpg: 49\n"
     ]
    }
   ],
   "source": [
    "# Function to match features between two images\n",
    "def match_features(desc1, desc2):\n",
    "    matches = bf.knnMatch(desc1, desc2, k=2) if use_sift else bf.match(desc1, desc2)\n",
    "    \n",
    "    # Apply Lowe's ratio test for SIFT\n",
    "    if use_sift:\n",
    "        good_matches = [m for m, n in matches if m.distance < 0.75 * n.distance]\n",
    "    else:\n",
    "        good_matches = matches  # ORB uses crossCheck, so matches are already good\n",
    "    \n",
    "    return len(good_matches), good_matches\n",
    "\n",
    "# Compare matches between consecutive images\n",
    "for i in range(len(images) - 1):\n",
    "    if descriptors[i] is not None and descriptors[i+1] is not None:\n",
    "        num_matches, good_matches = match_features(descriptors[i], descriptors[i+1])\n",
    "        print(f\"Matches between {image_paths[i]} and {image_paths[i+1]}: {num_matches}\")\n",
    "    else:\n",
    "        print(f\"Skipping {image_paths[i]} and {image_paths[i+1]} due to missing descriptors.\")"
   ]
  },
  {
   "cell_type": "code",
   "execution_count": 8,
   "metadata": {},
   "outputs": [],
   "source": [
    "# Check keypoints before visualization\n",
    "img_idx = 0  # Change to visualize a different image pair\n",
    "if keypoints[img_idx] and keypoints[img_idx + 1]:\n",
    "    num_matches, good_matches = match_features(\n",
    "        descriptors[img_idx], descriptors[img_idx + 1])\n",
    "\n",
    "    if good_matches:  # Ensure there are matches before drawing\n",
    "        img_matches = cv2.drawMatches(\n",
    "            images[img_idx], keypoints[img_idx],\n",
    "            images[img_idx + 1], keypoints[img_idx + 1],\n",
    "            good_matches, None, flags=cv2.DrawMatchesFlags_NOT_DRAW_SINGLE_POINTS\n",
    "        )\n",
    "        cv2.imshow(\"Matches\", img_matches)\n",
    "        cv2.waitKey(0)\n",
    "        cv2.destroyAllWindows()\n",
    "    else:\n",
    "        print(\"No good matches found to visualize.\")\n",
    "else:\n",
    "    print(\"Not enough keypoints for visualization.\")"
   ]
  }
 ],
 "metadata": {
  "kernelspec": {
   "display_name": "bev",
   "language": "python",
   "name": "python3"
  },
  "language_info": {
   "codemirror_mode": {
    "name": "ipython",
    "version": 3
   },
   "file_extension": ".py",
   "mimetype": "text/x-python",
   "name": "python",
   "nbconvert_exporter": "python",
   "pygments_lexer": "ipython3",
   "version": "3.13.2"
  }
 },
 "nbformat": 4,
 "nbformat_minor": 2
}
